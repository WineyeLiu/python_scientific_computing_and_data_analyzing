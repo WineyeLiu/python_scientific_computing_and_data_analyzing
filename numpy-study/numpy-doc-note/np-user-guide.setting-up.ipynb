{
 "cells": [
  {
   "cell_type": "markdown",
   "metadata": {},
   "source": [
    "# Numpy 是啥？"
   ]
  },
  {
   "cell_type": "markdown",
   "metadata": {},
   "source": [
    "numpy 是一个python科学计算的基础包。提供多维数组和多种其他派生对象和一系列操作，包括数值操作，逻辑操作，变形，排序，选择，IO，离散傅里叶变换，基本线性代数，基本统计，仿真随机等"
   ]
  },
  {
   "cell_type": "markdown",
   "metadata": {},
   "source": [
    "numpy 的核心对象 ```ndarray```, 封装了**相同数据类型**的n维数组和一些数据操作，跟python内置类型list有以下**重大区别**：  \n",
    "* numpy 的数组有固定长度，不能动态改变， 改变ndarray的大小会重新创建新ndarray对象，删除原有对象\n",
    "* 高效处理大量数据\n",
    "* 大量数据科学软件接受numpy的ndarray对象而非python内置数据结构。即使可以接受python内置数据结构，大多数也转换成了ndarray"
   ]
  },
  {
   "cell_type": "markdown",
   "metadata": {},
   "source": [
    "numpy的数组操作以近乎C的速度运行，同时又具有python代码的简洁性。"
   ]
  },
  {
   "cell_type": "code",
   "execution_count": null,
   "metadata": {
    "collapsed": true
   },
   "outputs": [],
   "source": []
  }
 ],
 "metadata": {
  "kernelspec": {
   "display_name": "Python 3",
   "language": "python",
   "name": "python3"
  },
  "language_info": {
   "codemirror_mode": {
    "name": "ipython",
    "version": 3
   },
   "file_extension": ".py",
   "mimetype": "text/x-python",
   "name": "python",
   "nbconvert_exporter": "python",
   "pygments_lexer": "ipython3",
   "version": "3.6.2"
  }
 },
 "nbformat": 4,
 "nbformat_minor": 2
}
