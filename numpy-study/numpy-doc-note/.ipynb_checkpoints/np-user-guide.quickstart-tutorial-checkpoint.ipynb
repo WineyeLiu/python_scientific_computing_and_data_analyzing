{
 "cells": [
  {
   "cell_type": "markdown",
   "metadata": {},
   "source": [
    "# 快速开始"
   ]
  },
  {
   "cell_type": "markdown",
   "metadata": {},
   "source": [
    "## 基础"
   ]
  },
  {
   "cell_type": "markdown",
   "metadata": {},
   "source": [
    "numpy 的主要对象是同类型的n维数组。在numpy中，每个维度称为axe，维度的数量称为rank。"
   ]
  },
  {
   "cell_type": "markdown",
   "metadata": {},
   "source": [
    "numpy 的数组类被称为 ```ndarray```，别名也是```array```。 注意```numpy.array```和python标准库的```array.array```是不同的。```ndarray```的重要属性如下：  \n",
    "* ndarray.ndim   \n",
    "    axes的数量\n",
    "* ndarray.shape  \n",
    "    返回的数据结构是元组（n, m） n是axes的数量， m是每个axe的size\n",
    "* ndarray.size  \n",
    "    包含元素的个数，shape的元素的乘积\n",
    "* ndarray.dtype  \n",
    "    返回数组元素的对象类型\n",
    "* ndarray.itemsize  \n",
    "    数组元素的大小（byte）\n",
    "* ndarray.data  \n",
    "    包含真实元素数据的缓冲。通常不需要"
   ]
  },
  {
   "cell_type": "code",
   "execution_count": 2,
   "metadata": {
    "collapsed": true
   },
   "outputs": [],
   "source": [
    "import numpy as np\n",
    "a = np.arange(15).reshape(3, 5)"
   ]
  },
  {
   "cell_type": "code",
   "execution_count": 6,
   "metadata": {},
   "outputs": [
    {
     "data": {
      "text/plain": [
       "array([[ 0,  1,  2,  3,  4],\n",
       "       [ 5,  6,  7,  8,  9],\n",
       "       [10, 11, 12, 13, 14]])"
      ]
     },
     "execution_count": 6,
     "metadata": {},
     "output_type": "execute_result"
    }
   ],
   "source": [
    "a\n"
   ]
  },
  {
   "cell_type": "code",
   "execution_count": 10,
   "metadata": {},
   "outputs": [
    {
     "data": {
      "text/plain": [
       "15"
      ]
     },
     "execution_count": 10,
     "metadata": {},
     "output_type": "execute_result"
    }
   ],
   "source": [
    "a.ndim\n",
    "a.dtype.name\n",
    "a.size"
   ]
  },
  {
   "cell_type": "markdown",
   "metadata": {},
   "source": [
    "## 创建数组"
   ]
  },
  {
   "cell_type": "markdown",
   "metadata": {},
   "source": [
    "有几种方式可以创建数组"
   ]
  },
  {
   "cell_type": "code",
   "execution_count": 15,
   "metadata": {},
   "outputs": [
    {
     "name": "stdout",
     "output_type": "stream",
     "text": [
      "[1 2 3]\n",
      "[1 2 3]\n",
      "[[1 2 3]\n",
      " [4 6 6]]\n",
      "[ 1.+0.j  2.+0.j  3.+0.j]\n"
     ]
    }
   ],
   "source": [
    "# 通过array函数\n",
    "b = np.array([1, 2, 3])\n",
    "print(b)\n",
    "c = np.array((1, 2, 3))\n",
    "print(c)\n",
    "\n",
    "d = np.array(([1, 2, 3], [4, 6, 6]))\n",
    "print(d)\n",
    "\n",
    "e = np.array([1, 2 ,3], dtype=complex)\n",
    "print(e)"
   ]
  },
  {
   "cell_type": "code",
   "execution_count": 19,
   "metadata": {},
   "outputs": [
    {
     "name": "stdout",
     "output_type": "stream",
     "text": [
      "[[0 0 0 0]\n",
      " [0 0 0 0]\n",
      " [0 0 0 0]]\n",
      "[[[1 1 1 1]\n",
      "  [1 1 1 1]\n",
      "  [1 1 1 1]]\n",
      "\n",
      " [[1 1 1 1]\n",
      "  [1 1 1 1]\n",
      "  [1 1 1 1]]]\n",
      "[[ 0.  0.  0.]\n",
      " [ 0.  0.  0.]]\n"
     ]
    }
   ],
   "source": [
    "# 通过函数创建初始化的array\n",
    "f = np.zeros((3, 4), dtype=np.int16)\n",
    "print(f)\n",
    "\n",
    "g = np.ones((2, 3, 4), dtype=np.int64)\n",
    "print(g)\n",
    "\n",
    "h = np.empty((2, 3))\n",
    "print(h)"
   ]
  },
  {
   "cell_type": "code",
   "execution_count": 20,
   "metadata": {},
   "outputs": [
    {
     "name": "stdout",
     "output_type": "stream",
     "text": [
      "[ 1.   1.5  2.   2.5  3.   3.5  4.   4.5  5.   5.5  6.   6.5  7.   7.5  8.\n",
      "  8.5  9.   9.5]\n"
     ]
    }
   ],
   "source": [
    "# 通过arange函数\n",
    "i = np.arange(1, 10, 0.5)\n",
    "print(i)\n"
   ]
  },
  {
   "cell_type": "code",
   "execution_count": 21,
   "metadata": {},
   "outputs": [
    {
     "name": "stdout",
     "output_type": "stream",
     "text": [
      "[  0.00000000e+00   6.34239197e-02   1.26592454e-01   1.89251244e-01\n",
      "   2.51147987e-01   3.12033446e-01   3.71662456e-01   4.29794912e-01\n",
      "   4.86196736e-01   5.40640817e-01   5.92907929e-01   6.42787610e-01\n",
      "   6.90079011e-01   7.34591709e-01   7.76146464e-01   8.14575952e-01\n",
      "   8.49725430e-01   8.81453363e-01   9.09631995e-01   9.34147860e-01\n",
      "   9.54902241e-01   9.71811568e-01   9.84807753e-01   9.93838464e-01\n",
      "   9.98867339e-01   9.99874128e-01   9.96854776e-01   9.89821442e-01\n",
      "   9.78802446e-01   9.63842159e-01   9.45000819e-01   9.22354294e-01\n",
      "   8.95993774e-01   8.66025404e-01   8.32569855e-01   7.95761841e-01\n",
      "   7.55749574e-01   7.12694171e-01   6.66769001e-01   6.18158986e-01\n",
      "   5.67059864e-01   5.13677392e-01   4.58226522e-01   4.00930535e-01\n",
      "   3.42020143e-01   2.81732557e-01   2.20310533e-01   1.58001396e-01\n",
      "   9.50560433e-02   3.17279335e-02  -3.17279335e-02  -9.50560433e-02\n",
      "  -1.58001396e-01  -2.20310533e-01  -2.81732557e-01  -3.42020143e-01\n",
      "  -4.00930535e-01  -4.58226522e-01  -5.13677392e-01  -5.67059864e-01\n",
      "  -6.18158986e-01  -6.66769001e-01  -7.12694171e-01  -7.55749574e-01\n",
      "  -7.95761841e-01  -8.32569855e-01  -8.66025404e-01  -8.95993774e-01\n",
      "  -9.22354294e-01  -9.45000819e-01  -9.63842159e-01  -9.78802446e-01\n",
      "  -9.89821442e-01  -9.96854776e-01  -9.99874128e-01  -9.98867339e-01\n",
      "  -9.93838464e-01  -9.84807753e-01  -9.71811568e-01  -9.54902241e-01\n",
      "  -9.34147860e-01  -9.09631995e-01  -8.81453363e-01  -8.49725430e-01\n",
      "  -8.14575952e-01  -7.76146464e-01  -7.34591709e-01  -6.90079011e-01\n",
      "  -6.42787610e-01  -5.92907929e-01  -5.40640817e-01  -4.86196736e-01\n",
      "  -4.29794912e-01  -3.71662456e-01  -3.12033446e-01  -2.51147987e-01\n",
      "  -1.89251244e-01  -1.26592454e-01  -6.34239197e-02  -2.44929360e-16]\n"
     ]
    }
   ],
   "source": [
    "# 通过linspace函数\n",
    "j = np.linspace(0, 2*np.pi, 100)\n",
    "k = np.sin(j)\n",
    "print(k)"
   ]
  },
  {
   "cell_type": "markdown",
   "metadata": {},
   "source": [
    "## 基本操作"
   ]
  },
  {
   "cell_type": "markdown",
   "metadata": {},
   "source": [
    "数组之间的数学操作直接应用到元素层面"
   ]
  },
  {
   "cell_type": "code",
   "execution_count": 23,
   "metadata": {},
   "outputs": [
    {
     "name": "stdout",
     "output_type": "stream",
     "text": [
      "[100 100 100 100]\n",
      "[0 1 4 9]\n",
      "[ 0.          8.41470985  9.09297427  1.41120008]\n",
      "[ True  True False False]\n"
     ]
    }
   ],
   "source": [
    "l = np.array([100, 101, 102, 103])\n",
    "m = np.arange(4)\n",
    "n = l - m\n",
    "print(n)\n",
    "print(m**2)\n",
    "print(10*np.sin(m))\n",
    "print(l < 102)"
   ]
  },
  {
   "cell_type": "markdown",
   "metadata": {},
   "source": [
    "注意：\\* 直接应用到元素上，点乘使用dot函数"
   ]
  },
  {
   "cell_type": "code",
   "execution_count": 24,
   "metadata": {},
   "outputs": [
    {
     "name": "stdout",
     "output_type": "stream",
     "text": [
      "[[2 0]\n",
      " [0 4]]\n",
      "[[5 4]\n",
      " [3 4]]\n"
     ]
    }
   ],
   "source": [
    "o = np.array(([1, 1], [0, 1]))\n",
    "p = np.array(([2, 0], [3, 4]))\n",
    "print(o*p)\n",
    "print(o.dot(p))"
   ]
  },
  {
   "cell_type": "markdown",
   "metadata": {},
   "source": [
    "```+=``` 和 ```*=```是再原来的变量基础上操作，而非生成一个新对ndarray对象"
   ]
  },
  {
   "cell_type": "code",
   "execution_count": 27,
   "metadata": {},
   "outputs": [
    {
     "name": "stdout",
     "output_type": "stream",
     "text": [
      "[[ 0.3442341   0.43592826  0.03914188]\n",
      " [ 0.61907824  0.86660338  0.14278096]]\n",
      "[[ 1.3442341   1.43592826  1.03914188]\n",
      " [ 1.61907824  1.86660338  1.14278096]]\n"
     ]
    }
   ],
   "source": [
    "q = np.ones((2, 3), dtype=int)\n",
    "r = np.random.random((2,3))\n",
    "# q += r TypeError: Cannot cast ufunc add output from dtype('float64') to dtype('int32') with casting rule 'same_kind'\n",
    "print(r)\n",
    "r += q\n",
    "print(r)"
   ]
  },
  {
   "cell_type": "markdown",
   "metadata": {},
   "source": [
    "还有一些一元的函数，定义在ndarray类中"
   ]
  },
  {
   "cell_type": "code",
   "execution_count": 29,
   "metadata": {},
   "outputs": [
    {
     "name": "stdout",
     "output_type": "stream",
     "text": [
      "3.41643045923\n",
      "0.0439326705789\n",
      "0.973893966743\n",
      "[[ 0  1  2  3]\n",
      " [ 4  5  6  7]\n",
      " [ 8  9 10 11]]\n",
      "[12 15 18 21]\n",
      "[ 6 22 38]\n"
     ]
    }
   ],
   "source": [
    "s = np.random.random((2, 3))\n",
    "print(s.sum())\n",
    "print(s.min())\n",
    "print(s.max())\n",
    "\n",
    "t = np.arange(12).reshape(3, 4)\n",
    "print(t)\n",
    "print(t.sum(axis=0))\n",
    "print(t.sum(axis=1))\n"
   ]
  },
  {
   "cell_type": "markdown",
   "metadata": {
    "collapsed": true
   },
   "source": [
    "## 通用函数"
   ]
  },
  {
   "cell_type": "markdown",
   "metadata": {},
   "source": [
    "通用函数是定义在np模块上的，而非在ndarray上。所以调用方法是np.sin()"
   ]
  },
  {
   "cell_type": "code",
   "execution_count": 5,
   "metadata": {},
   "outputs": [
    {
     "data": {
      "text/plain": [
       "array([ 1.        ,  2.71828183,  7.3890561 ])"
      ]
     },
     "execution_count": 5,
     "metadata": {},
     "output_type": "execute_result"
    }
   ],
   "source": [
    "b = np.arange(3)\n",
    "\n",
    "np.exp(b) # sqrt add "
   ]
  },
  {
   "cell_type": "markdown",
   "metadata": {},
   "source": [
    "## 索引、切片、迭代"
   ]
  },
  {
   "cell_type": "code",
   "execution_count": 6,
   "metadata": {},
   "outputs": [
    {
     "name": "stdout",
     "output_type": "stream",
     "text": [
      "[  0   1   8  27  64 125 216 343 512 729]\n",
      "8\n",
      "[ 8 27 64]\n",
      "[  0  27 216 729]\n",
      "0.0 1.0 2.0 3.0 4.0 5.0 6.0 7.0 8.0 9.0 "
     ]
    }
   ],
   "source": [
    "a = np.arange(10)**3\n",
    "print(a)\n",
    "# 索引\n",
    "print(a[2])\n",
    "# 切片\n",
    "print(a[2:5])\n",
    "print(a[::3])\n",
    "# 迭代\n",
    "for i in a:\n",
    "    print(i**(1/3), end=\" \")"
   ]
  },
  {
   "cell_type": "code",
   "execution_count": 11,
   "metadata": {},
   "outputs": [
    {
     "name": "stdout",
     "output_type": "stream",
     "text": [
      "[[ 0  1  2  3]\n",
      " [10 11 12 13]\n",
      " [20 21 22 23]\n",
      " [30 31 32 33]\n",
      " [40 41 42 43]]\n",
      "23\n",
      "[ 2 12 22 32 42]\n",
      "[ 1 11 21 31 41]\n",
      "[[10 11 12 13]\n",
      " [20 21 22 23]]\n",
      "[40 41 42 43]\n"
     ]
    }
   ],
   "source": [
    "def f(x, y):\n",
    "    return 10*x + y\n",
    "\n",
    "b = np.fromfunction(f, (5, 4), dtype=int)\n",
    "print(b)\n",
    "# 多维数组的索引与切片\n",
    "print(b[2, 3])\n",
    "print(b[0:5, 2])\n",
    "\n",
    "print(b[: ,1])\n",
    "print(b[1:3, :])\n",
    "\n",
    "print(b[-1])"
   ]
  },
  {
   "cell_type": "markdown",
   "metadata": {},
   "source": [
    "dots(...)代表适当数量的冒号：  \n",
    "The dots (...) represent as many colons as needed to produce a complete indexing tuple. "
   ]
  },
  {
   "cell_type": "code",
   "execution_count": 17,
   "metadata": {},
   "outputs": [
    {
     "name": "stdout",
     "output_type": "stream",
     "text": [
      "[[[ 0  1  2]\n",
      "  [ 3  4  5]]\n",
      "\n",
      " [[ 6  7  8]\n",
      "  [ 9 10 11]]]\n",
      "[[ 6  7  8]\n",
      " [ 9 10 11]]\n",
      "[[ 2  5]\n",
      " [ 8 11]]\n",
      "[[0 1 2]\n",
      " [3 4 5]]\n",
      "[[ 6  7  8]\n",
      " [ 9 10 11]]\n"
     ]
    }
   ],
   "source": [
    "c = np.arange(12).reshape(2, 2, 3)\n",
    "print(c)\n",
    "\n",
    "print(c[1, ...])\n",
    "print(c[..., 2])\n",
    "for x in c:\n",
    "    print(x)\n"
   ]
  },
  {
   "cell_type": "markdown",
   "metadata": {},
   "source": [
    "## 变形操作"
   ]
  },
  {
   "cell_type": "markdown",
   "metadata": {},
   "source": [
    "一个数组的shape由每个轴（axis）上的元素个数给出。"
   ]
  },
  {
   "cell_type": "code",
   "execution_count": 20,
   "metadata": {},
   "outputs": [
    {
     "name": "stdout",
     "output_type": "stream",
     "text": [
      "[[ 8.  1.  7.  7.]\n",
      " [ 5.  3.  9.  7.]\n",
      " [ 5.  0.  4.  1.]]\n",
      "(3, 4)\n"
     ]
    }
   ],
   "source": [
    "a = np.floor(10*np.random.random((3, 4)))\n",
    "print(a)\n",
    "print(a.shape)"
   ]
  },
  {
   "cell_type": "markdown",
   "metadata": {},
   "source": [
    "一个数组的形状可以通过一些命令改变，一下几个命令（ravel，reshape, T）返回一个修改后的数组，而不会改变原数组"
   ]
  },
  {
   "cell_type": "code",
   "execution_count": 24,
   "metadata": {},
   "outputs": [
    {
     "name": "stdout",
     "output_type": "stream",
     "text": [
      "[[ 3.  6.  3.  8.]\n",
      " [ 5.  5.  4.  1.]\n",
      " [ 1.  8.  6.  1.]]\n",
      "[ 3.  6.  3.  8.  5.  5.  4.  1.  1.  8.  6.  1.]\n",
      "[[ 3.  6.  3.]\n",
      " [ 8.  5.  5.]\n",
      " [ 4.  1.  1.]\n",
      " [ 8.  6.  1.]]\n",
      "[[ 3.  5.  1.]\n",
      " [ 6.  5.  8.]\n",
      " [ 3.  4.  6.]\n",
      " [ 8.  1.  1.]]\n",
      "[ 3.  5.  1.  6.  5.  8.  3.  4.  6.  8.  1.  1.]\n"
     ]
    }
   ],
   "source": [
    "a = np.floor(10*np.random.random((3, 4)))\n",
    "print(a)\n",
    "print(a.ravel())\n",
    "print(a.reshape(4,-1))\n",
    "print(a.T)\n",
    "print(a.ravel('F')) # ravel函数reshape函数遵循C风格顺序，即右边的索引变化的最快，如果使用Fortran风格（左边索引变得最快），则需要传入参数‘F’"
   ]
  },
  {
   "cell_type": "markdown",
   "metadata": {},
   "source": [
    "rezise函数是在原数组基础上变形"
   ]
  },
  {
   "cell_type": "code",
   "execution_count": 28,
   "metadata": {},
   "outputs": [
    {
     "name": "stdout",
     "output_type": "stream",
     "text": [
      "[ 0  1  2  3  4  5  6  7  8  9 10 11]\n",
      "[ 0  1  2  3  4  5  6  7  8  9 10 11]\n",
      "[[ 0  1  2  3  4  5]\n",
      " [ 6  7  8  9 10 11]]\n"
     ]
    }
   ],
   "source": [
    "a = np.arange(12)\n",
    "print(a)\n",
    "a.reshape(3, 4)\n",
    "print(a)\n",
    "a.resize(2, 6)\n",
    "print(a)"
   ]
  },
  {
   "cell_type": "markdown",
   "metadata": {},
   "source": [
    "## 不同的数组的堆叠"
   ]
  },
  {
   "cell_type": "markdown",
   "metadata": {},
   "source": [
    "几个数组可以通过不同的轴向堆叠起来"
   ]
  },
  {
   "cell_type": "code",
   "execution_count": 32,
   "metadata": {},
   "outputs": [
    {
     "name": "stdout",
     "output_type": "stream",
     "text": [
      "[[ 3.  4.]\n",
      " [ 6.  1.]]\n",
      "[[ 0.  8.]\n",
      " [ 8.  3.]]\n",
      "***************\n",
      "[[ 3.  4.]\n",
      " [ 6.  1.]\n",
      " [ 0.  8.]\n",
      " [ 8.  3.]]\n",
      "[[ 3.  4.  0.  8.]\n",
      " [ 6.  1.  8.  3.]]\n"
     ]
    }
   ],
   "source": [
    "a = np.floor(10*np.random.random((2, 2)))\n",
    "print(a)\n",
    "b = np.floor(10*np.random.random((2, 2)))\n",
    "print(b)\n",
    "print('*'*15)\n",
    "print(np.vstack((a, b)))\n",
    "print(np.hstack((a, b)))"
   ]
  },
  {
   "cell_type": "markdown",
   "metadata": {},
   "source": [
    "把一个数组切分成多个小数组"
   ]
  },
  {
   "cell_type": "code",
   "execution_count": 35,
   "metadata": {},
   "outputs": [
    {
     "name": "stdout",
     "output_type": "stream",
     "text": [
      "[[ 0  1  2  3  4  5]\n",
      " [ 6  7  8  9 10 11]]\n",
      "[array([[0, 1],\n",
      "       [6, 7]]), array([[2, 3],\n",
      "       [8, 9]]), array([[ 4,  5],\n",
      "       [10, 11]])]\n",
      "[array([[0, 1, 2],\n",
      "       [6, 7, 8]]), array([[3],\n",
      "       [9]]), array([[ 4,  5],\n",
      "       [10, 11]])]\n"
     ]
    }
   ],
   "source": [
    "a = np.arange(12).reshape(2,6)\n",
    "print(a)\n",
    "print(np.hsplit(a, 3))\n",
    "print(np.hsplit(a, (3, 4)))"
   ]
  },
  {
   "cell_type": "markdown",
   "metadata": {},
   "source": [
    "## 拷贝和视图"
   ]
  },
  {
   "cell_type": "markdown",
   "metadata": {},
   "source": [
    "### 完全没有拷贝的情况"
   ]
  },
  {
   "cell_type": "code",
   "execution_count": 40,
   "metadata": {},
   "outputs": [
    {
     "name": "stdout",
     "output_type": "stream",
     "text": [
      "True\n",
      "(2, 5)\n",
      "[[0 1 2 3 4]\n",
      " [5 6 7 8 9]]\n"
     ]
    }
   ],
   "source": [
    "# 赋值不会拷贝\n",
    "a = np.arange(10)\n",
    "b = a\n",
    "print(a is b)\n",
    "a.shape = 2, 5\n",
    "print(b.shape)\n",
    "print(b)"
   ]
  },
  {
   "cell_type": "code",
   "execution_count": 41,
   "metadata": {},
   "outputs": [
    {
     "name": "stdout",
     "output_type": "stream",
     "text": [
      "1886911739744\n",
      "1886911739744\n"
     ]
    }
   ],
   "source": [
    "# python的函数传可变类型的参数 不会拷贝\n",
    "def f(x): return id(x)\n",
    "print(id(a))\n",
    "print(f(a))"
   ]
  },
  {
   "cell_type": "markdown",
   "metadata": {},
   "source": [
    "### 视图和浅拷贝"
   ]
  },
  {
   "cell_type": "markdown",
   "metadata": {},
   "source": [
    "不同的array对象可以共享相同的数据，view函数就创建一个新对象和源对象拥有相同的数据（looks at）（就是数据是同步的）"
   ]
  },
  {
   "cell_type": "code",
   "execution_count": 46,
   "metadata": {},
   "outputs": [
    {
     "name": "stdout",
     "output_type": "stream",
     "text": [
      "[[ 4.  8.  7.  9.]\n",
      " [ 2.  9.  5.  5.]\n",
      " [ 0.  5.  8.  5.]]\n",
      "[[ 4.  8.  7.  9.]\n",
      " [ 2.  9.  5.  5.]\n",
      " [ 0.  5.  8.  5.]]\n",
      "False\n",
      "True\n",
      "False\n",
      "[[ 4.  8.  7.  9.  2.  9.]\n",
      " [ 5.  5.  0.  5.  8.  5.]]\n",
      "(3, 4)\n",
      "[[ 1000.     8.     7.     9.]\n",
      " [    2.     9.     5.     5.]\n",
      " [    0.     5.     8.     5.]]\n"
     ]
    }
   ],
   "source": [
    "a = np.floor(10*np.random.random((3, 4)))\n",
    "print(a)\n",
    "c = a.view()\n",
    "print(c)\n",
    "print(c is a)\n",
    "print(c.base is a)\n",
    "print(c.flags.owndata)\n",
    "\n",
    "c.shape = 2, 6\n",
    "print(c)\n",
    "print(a.shape) # c改变形状，不会改变a的形状\n",
    "c[0, 0] = 1000\n",
    "print(a) # 改变c的数据，会影响a的数据"
   ]
  },
  {
   "cell_type": "markdown",
   "metadata": {},
   "source": [
    "分片后返回的是一个视图"
   ]
  },
  {
   "cell_type": "code",
   "execution_count": 50,
   "metadata": {},
   "outputs": [
    {
     "name": "stdout",
     "output_type": "stream",
     "text": [
      "[[ 0  1  2  3]\n",
      " [ 4  5  6  7]\n",
      " [ 8  9 10 11]]\n",
      "[[4 5]\n",
      " [8 9]]\n",
      "[[  0   1   2   3]\n",
      " [100 100   6   7]\n",
      " [100 100  10  11]]\n"
     ]
    }
   ],
   "source": [
    "a = np.arange(12).reshape(3, 4)\n",
    "print(a)\n",
    "s = a[1:, 0:2]\n",
    "print(s)\n",
    "s[:] = 100\n",
    "print(a)"
   ]
  },
  {
   "cell_type": "markdown",
   "metadata": {},
   "source": [
    "### 深度拷贝"
   ]
  },
  {
   "cell_type": "markdown",
   "metadata": {},
   "source": [
    "copy函数完全拷贝一个对象，包括它的数据。"
   ]
  },
  {
   "cell_type": "code",
   "execution_count": 51,
   "metadata": {},
   "outputs": [
    {
     "name": "stdout",
     "output_type": "stream",
     "text": [
      "False\n",
      "False\n"
     ]
    }
   ],
   "source": [
    "a = np.arange(12).reshape(3, 4)\n",
    "b = a.copy()\n",
    "print(b is a )\n",
    "print(b.base is a)"
   ]
  },
  {
   "cell_type": "code",
   "execution_count": null,
   "metadata": {
    "collapsed": true
   },
   "outputs": [],
   "source": []
  }
 ],
 "metadata": {
  "kernelspec": {
   "display_name": "Python 3",
   "language": "python",
   "name": "python3"
  },
  "language_info": {
   "codemirror_mode": {
    "name": "ipython",
    "version": 3
   },
   "file_extension": ".py",
   "mimetype": "text/x-python",
   "name": "python",
   "nbconvert_exporter": "python",
   "pygments_lexer": "ipython3",
   "version": "3.6.2"
  }
 },
 "nbformat": 4,
 "nbformat_minor": 2
}
